{
 "cells": [
  {
   "cell_type": "code",
   "execution_count": 33,
   "id": "3454ceb5",
   "metadata": {},
   "outputs": [
    {
     "name": "stdout",
     "output_type": "stream",
     "text": [
      "The autoreload extension is already loaded. To reload it, use:\n",
      "  %reload_ext autoreload\n"
     ]
    }
   ],
   "source": [
    "%load_ext autoreload\n",
    "%autoreload 2"
   ]
  },
  {
   "cell_type": "code",
   "execution_count": 35,
   "id": "1887d2bf",
   "metadata": {},
   "outputs": [],
   "source": [
    "from src.ml.model import AlphaPolicyModel, AlphaValueModel\n",
    "from src.connect4.agent import RandomAgent, MCTSAgent\n",
    "from src.connect4.game import run\n",
    "import time\n",
    "from src.ml.train_util import record_tree"
   ]
  },
  {
   "cell_type": "code",
   "execution_count": 36,
   "id": "ff047022",
   "metadata": {},
   "outputs": [
    {
     "name": "stdout",
     "output_type": "stream",
     "text": [
      " 30.873413801193237 s\n"
     ]
    }
   ],
   "source": [
    "alpha_value = AlphaValueModel()\n",
    "alpha_policy = AlphaPolicyModel()\n",
    "\n",
    "agent_1 = MCTSAgent(\n",
    "    value_network=alpha_value,\n",
    "    policy_network=alpha_policy\n",
    ")\n",
    "\n",
    "agent_2 = RandomAgent()\n",
    "\n",
    "start = time.time()\n",
    "run(agent_1, agent_2)\n",
    "print(f' {time.time() - start} s')"
   ]
  },
  {
   "cell_type": "code",
   "execution_count": null,
   "id": "90e7c46a",
   "metadata": {},
   "outputs": [],
   "source": []
  }
 ],
 "metadata": {
  "environment": {
   "name": "common-cpu.m65",
   "type": "gcloud",
   "uri": "gcr.io/deeplearning-platform-release/base-cpu:m65"
  },
  "kernelspec": {
   "display_name": "Python 3",
   "language": "python",
   "name": "python3"
  },
  "language_info": {
   "codemirror_mode": {
    "name": "ipython",
    "version": 3
   },
   "file_extension": ".py",
   "mimetype": "text/x-python",
   "name": "python",
   "nbconvert_exporter": "python",
   "pygments_lexer": "ipython3",
   "version": "3.7.10"
  }
 },
 "nbformat": 4,
 "nbformat_minor": 5
}
