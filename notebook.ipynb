{
 "cells": [
  {
   "cell_type": "code",
   "execution_count": 1,
   "id": "3e27bef7",
   "metadata": {},
   "outputs": [],
   "source": [
    "%load_ext autoreload\n",
    "%autoreload 2"
   ]
  },
  {
   "cell_type": "code",
   "execution_count": null,
   "id": "da174c42",
   "metadata": {
    "pycharm": {
     "is_executing": true
    }
   },
   "outputs": [],
   "source": [
    "from src.ml.model import AlphaPolicyModel, AlphaValueModel\n",
    "from src.connect4.agent import RandomAgent, MCTSAgent\n",
    "from src.connect4.game import run\n",
    "import time\n",
    "from src.ml.train_util import record_tree\n",
    "import tensorflow as tf"
   ]
  },
  {
   "cell_type": "code",
   "execution_count": null,
   "id": "e58d18c6",
   "metadata": {
    "pycharm": {
     "is_executing": true
    }
   },
   "outputs": [],
   "source": [
    "alpha_value = AlphaValueModel()\n",
    "alpha_policy = AlphaPolicyModel()\n",
    "\n",
    "agent_1 = MCTSAgent(\n",
    "    value_network=alpha_value,\n",
    "    policy_network=alpha_policy\n",
    ")\n",
    "\n",
    "agent_2 = RandomAgent()\n",
    "\n",
    "start = time.time()\n",
    "run(agent_1, agent_2)\n",
    "print(f' {time.time() - start} s')"
   ]
  },
  {
   "cell_type": "code",
   "execution_count": null,
   "id": "1d3cc367",
   "metadata": {
    "pycharm": {
     "is_executing": true
    }
   },
   "outputs": [],
   "source": [
    "import tensorflow as tf\n",
    "\n",
    "device = tf.test.gpu_device_name()\n",
    "print(device)"
   ]
  },
  {
   "cell_type": "code",
   "execution_count": null,
   "id": "bd9aa1e5",
   "metadata": {
    "pycharm": {
     "is_executing": true
    }
   },
   "outputs": [],
   "source": [
    "gpu = '/device:GPU:0'\n",
    "cpu = '/device:CPU:0'\n",
    "\n",
    "from src.ml.nn import get_value_network\n",
    "import numpy as np\n",
    "\n",
    "data = np.zeros((1,7 *6,))\n",
    "model = get_value_network()\n",
    "\n",
    "\n",
    "start = time.time()\n",
    "with tf.device(cpu):\n",
    "    res = model(data).numpy()[0][0]\n",
    "    print(res, f'CPU: {time.time() - start}')\n",
    "\n",
    "start = time.time()\n",
    "with tf.device(gpu):\n",
    "    res = model(data).numpy()[0][0]\n",
    "    print(res, f'GPU: {time.time() - start}')\n",
    "    "
   ]
  },
  {
   "cell_type": "code",
   "execution_count": null,
   "id": "bc302675",
   "metadata": {},
   "outputs": [],
   "source": [
    "    # See how well model fits self-play data\n",
    "    with open('src/ml.generated/datasets/large-data.pkl', 'rb') as f:\n",
    "        data = pickle.load(f)\n",
    "        priors = data['priors']\n",
    "        states = data['states']\n",
    "        values = data['values']\n",
    "    \n",
    "    print(states.shape)\n",
    "    start = time.time()\n",
    "    states, priors, values = preprocess_data(states, priors, values)\n",
    "    with open('generated/datasets/cleaned_data.pkl', 'wb+') as f:\n",
    "        pickle.dump(\n",
    "            {\n",
    "                'priors': priors,\n",
    "                'states': states,\n",
    "                'values': values\n",
    "            }, f\n",
    "        )\n",
    "    print(f'Aggregate and process data in {time.time() - start}s')\n",
    "    print(states.shape)"
   ]
  },
  {
   "cell_type": "code",
   "execution_count": null,
   "outputs": [],
   "source": [
    "    # See how well model performs on cleaned data\n",
    "    with open('generated/datasets/cleaned_data.pkl', 'rb+')as f:\n",
    "        data = pickle.load(f)\n",
    "        priors = data['priors']\n",
    "        states = data['states']\n",
    "        values = data['values']\n",
    "\n",
    "    value_network = get_cnn_value_model()\n",
    "    print(value_network.summary())\n",
    "    N, D = states.shape\n",
    "    states = states.reshape((N, col, row, 1))\n",
    "    # policy_network = get_policy_network()\n",
    "\n",
    "    #\n",
    "    value_network.fit(states, values, epochs=50, validation_split=0.3)\n",
    "    # policy_network.fit(states, priors, epochs=10, validation_split=0.3)"
   ],
   "metadata": {
    "collapsed": false,
    "pycharm": {
     "name": "#%%\n"
    }
   }
  },
  {
   "cell_type": "code",
   "execution_count": null,
   "id": "90bb0766",
   "metadata": {},
   "outputs": [],
   "source": [
    "    # See how well model performs on cleaned data\n",
    "    with open('generated/datasets/cleaned_data.pkl', 'rb+')as f:\n",
    "        data = pickle.load(f)\n",
    "        priors = data['priors']\n",
    "        states = data['states']\n",
    "        values = data['values']\n",
    "\n",
    "    value_network = get_cnn_value_model()\n",
    "    print(value_network.summary())\n",
    "    N, D = states.shape\n",
    "    states = states.reshape((N, col, row, 1))\n",
    "    # policy_network = get_policy_network()\n",
    "\n",
    "    #\n",
    "    value_network.fit(states, values, epochs=50, validation_split=0.3)\n",
    "    # policy_network.fit(states, priors, epochs=10, validation_split=0.3)"
   ]
  }
 ],
 "metadata": {
  "environment": {
   "name": "tf2-gpu.2-4.m65",
   "type": "gcloud",
   "uri": "gcr.io/deeplearning-platform-release/tf2-gpu.2-4:m65"
  },
  "kernelspec": {
   "display_name": "Python 3",
   "language": "python",
   "name": "python3"
  },
  "language_info": {
   "codemirror_mode": {
    "name": "ipython",
    "version": 3
   },
   "file_extension": ".py",
   "mimetype": "text/x-python",
   "name": "python",
   "nbconvert_exporter": "python",
   "pygments_lexer": "ipython3",
   "version": "3.7.5"
  }
 },
 "nbformat": 4,
 "nbformat_minor": 5
}