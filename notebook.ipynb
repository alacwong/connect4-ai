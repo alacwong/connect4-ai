{
 "cells": [
  {
   "cell_type": "code",
   "execution_count": 6,
   "id": "3e27bef7",
   "metadata": {},
   "outputs": [
    {
     "name": "stdout",
     "output_type": "stream",
     "text": [
      "The autoreload extension is already loaded. To reload it, use:\n",
      "  %reload_ext autoreload\n"
     ]
    }
   ],
   "source": [
    "%load_ext autoreload\n",
    "%autoreload 2"
   ]
  },
  {
   "cell_type": "code",
   "execution_count": 8,
   "id": "da174c42",
   "metadata": {},
   "outputs": [],
   "source": [
    "from src.ml.model import AlphaPolicyModel, AlphaValueModel\n",
    "from src.connect4.agent import RandomAgent, MCTSAgent\n",
    "from src.connect4.game import run\n",
    "import time\n",
    "from src.ml.train_util import record_tree\n",
    "import tensorflow as tf"
   ]
  },
  {
   "cell_type": "code",
   "execution_count": 13,
   "id": "e58d18c6",
   "metadata": {},
   "outputs": [
    {
     "name": "stdout",
     "output_type": "stream",
     "text": [
      " 58.356940269470215 s\n"
     ]
    }
   ],
   "source": [
    "alpha_value = AlphaValueModel()\n",
    "alpha_policy = AlphaPolicyModel()\n",
    "\n",
    "agent_1 = MCTSAgent(\n",
    "    value_network=alpha_value,\n",
    "    policy_network=alpha_policy\n",
    ")\n",
    "\n",
    "agent_2 = RandomAgent()\n",
    "\n",
    "start = time.time()\n",
    "run(agent_1, agent_2)\n",
    "print(f' {time.time() - start} s')"
   ]
  },
  {
   "cell_type": "code",
   "execution_count": 3,
   "id": "1d3cc367",
   "metadata": {},
   "outputs": [
    {
     "name": "stdout",
     "output_type": "stream",
     "text": [
      "/device:GPU:0\n"
     ]
    }
   ],
   "source": [
    "import tensorflow as tf\n",
    "\n",
    "device = tf.test.gpu_device_name()\n",
    "print(device)"
   ]
  },
  {
   "cell_type": "code",
   "execution_count": 46,
   "id": "bd9aa1e5",
   "metadata": {},
   "outputs": [
    {
     "name": "stdout",
     "output_type": "stream",
     "text": [
      "0.0 CPU: 0.0020868778228759766\n",
      "0.0 GPU: 0.0016019344329833984\n"
     ]
    }
   ],
   "source": [
    "gpu = '/device:GPU:0'\n",
    "cpu = '/device:CPU:0'\n",
    "\n",
    "from src.ml.nn import get_value_network\n",
    "import numpy as np\n",
    "\n",
    "data = np.zeros((1,7 *6,))\n",
    "model = get_value_network()\n",
    "\n",
    "\n",
    "start = time.time()\n",
    "with tf.device(cpu):\n",
    "    res = model(data).numpy()[0][0]\n",
    "    print(res, f'CPU: {time.time() - start}')\n",
    "\n",
    "start = time.time()\n",
    "with tf.device(gpu):\n",
    "    res = model(data).numpy()[0][0]\n",
    "    print(res, f'GPU: {time.time() - start}')\n",
    "    "
   ]
  }
 ],
 "metadata": {
  "environment": {
   "name": "tf2-gpu.2-4.m65",
   "type": "gcloud",
   "uri": "gcr.io/deeplearning-platform-release/tf2-gpu.2-4:m65"
  },
  "kernelspec": {
   "display_name": "Python 3",
   "language": "python",
   "name": "python3"
  },
  "language_info": {
   "codemirror_mode": {
    "name": "ipython",
    "version": 3
   },
   "file_extension": ".py",
   "mimetype": "text/x-python",
   "name": "python",
   "nbconvert_exporter": "python",
   "pygments_lexer": "ipython3",
   "version": "3.7.10"
  }
 },
 "nbformat": 4,
 "nbformat_minor": 5
}
